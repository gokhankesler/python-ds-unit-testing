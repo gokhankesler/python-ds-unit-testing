{
 "cells": [
  {
   "cell_type": "code",
   "execution_count": 2,
   "metadata": {},
   "outputs": [],
   "source": [
    "%matplotlib notebook"
   ]
  },
  {
   "cell_type": "code",
   "execution_count": 19,
   "metadata": {},
   "outputs": [
    {
     "ename": "ImportError",
     "evalue": "cannot import name 'train_model' from 'models.train' (/Users/gkesler/Documents/GitHub/python-ds-unit-testing/src/models/train.py)",
     "output_type": "error",
     "traceback": [
      "\u001b[0;31m---------------------------------------------------------------------------\u001b[0m",
      "\u001b[0;31mImportError\u001b[0m                               Traceback (most recent call last)",
      "\u001b[0;32m/var/folders/14/7mcklss54hzfhxsq9f0x6x100000gn/T/ipykernel_48956/2263004182.py\u001b[0m in \u001b[0;36m<module>\u001b[0;34m\u001b[0m\n\u001b[1;32m      3\u001b[0m \u001b[0;32mfrom\u001b[0m \u001b[0mdata\u001b[0m\u001b[0;34m.\u001b[0m\u001b[0mpreprocessing_helpers\u001b[0m \u001b[0;32mimport\u001b[0m \u001b[0mpreprocess\u001b[0m\u001b[0;34m\u001b[0m\u001b[0;34m\u001b[0m\u001b[0m\n\u001b[1;32m      4\u001b[0m \u001b[0;32mfrom\u001b[0m \u001b[0mfeatures\u001b[0m\u001b[0;34m.\u001b[0m\u001b[0mas_numpy\u001b[0m \u001b[0;32mimport\u001b[0m \u001b[0mget_data_as_numpy_array\u001b[0m\u001b[0;34m\u001b[0m\u001b[0;34m\u001b[0m\u001b[0m\n\u001b[0;32m----> 5\u001b[0;31m \u001b[0;32mfrom\u001b[0m \u001b[0mmodels\u001b[0m\u001b[0;34m.\u001b[0m\u001b[0mtrain\u001b[0m \u001b[0;32mimport\u001b[0m \u001b[0msplit_into_training_and_testing_sets\u001b[0m\u001b[0;34m,\u001b[0m \u001b[0mtrain_model\u001b[0m\u001b[0;34m,\u001b[0m \u001b[0mmodel_test\u001b[0m\u001b[0;34m\u001b[0m\u001b[0;34m\u001b[0m\u001b[0m\n\u001b[0m\u001b[1;32m      6\u001b[0m \u001b[0;32mfrom\u001b[0m \u001b[0mvisualization\u001b[0m\u001b[0;34m.\u001b[0m\u001b[0mplots\u001b[0m \u001b[0;32mimport\u001b[0m \u001b[0mget_plot_for_best_fit_line\u001b[0m\u001b[0;34m\u001b[0m\u001b[0;34m\u001b[0m\u001b[0m\n",
      "\u001b[0;31mImportError\u001b[0m: cannot import name 'train_model' from 'models.train' (/Users/gkesler/Documents/GitHub/python-ds-unit-testing/src/models/train.py)"
     ]
    }
   ],
   "source": [
    "from pathlib import Path\n",
    "\n",
    "from data.preprocessing_helpers import preprocess\n",
    "from features.as_numpy import get_data_as_numpy_array\n",
    "from models.train import split_into_training_and_testing_sets, train_model, model_test\n",
    "from visualization.plots import get_plot_for_best_fit_line"
   ]
  },
  {
   "cell_type": "code",
   "execution_count": 6,
   "metadata": {},
   "outputs": [
    {
     "ename": "NameError",
     "evalue": "name 'train_model' is not defined",
     "output_type": "error",
     "traceback": [
      "\u001b[0;31m---------------------------------------------------------------------------\u001b[0m",
      "\u001b[0;31mNameError\u001b[0m                                 Traceback (most recent call last)",
      "\u001b[0;32m/var/folders/14/7mcklss54hzfhxsq9f0x6x100000gn/T/ipykernel_48956/3134689427.py\u001b[0m in \u001b[0;36m<module>\u001b[0;34m\u001b[0m\n\u001b[1;32m      4\u001b[0m \u001b[0mdata_array\u001b[0m \u001b[0;34m=\u001b[0m \u001b[0mget_data_as_numpy_array\u001b[0m\u001b[0;34m(\u001b[0m\u001b[0mclean_data_file_path\u001b[0m\u001b[0;34m,\u001b[0m \u001b[0;36m2\u001b[0m\u001b[0;34m)\u001b[0m\u001b[0;34m\u001b[0m\u001b[0;34m\u001b[0m\u001b[0m\n\u001b[1;32m      5\u001b[0m \u001b[0mtraining_set\u001b[0m\u001b[0;34m,\u001b[0m \u001b[0mtesting_set\u001b[0m \u001b[0;34m=\u001b[0m \u001b[0msplit_into_training_and_testing_sets\u001b[0m\u001b[0;34m(\u001b[0m\u001b[0mdata_array\u001b[0m\u001b[0;34m)\u001b[0m\u001b[0;34m\u001b[0m\u001b[0;34m\u001b[0m\u001b[0m\n\u001b[0;32m----> 6\u001b[0;31m \u001b[0mslope\u001b[0m\u001b[0;34m,\u001b[0m \u001b[0mintercept\u001b[0m \u001b[0;34m=\u001b[0m \u001b[0mtrain_model\u001b[0m\u001b[0;34m(\u001b[0m\u001b[0mtraining_set\u001b[0m\u001b[0;34m)\u001b[0m\u001b[0;34m\u001b[0m\u001b[0;34m\u001b[0m\u001b[0m\n\u001b[0m\u001b[1;32m      7\u001b[0m \u001b[0mprint\u001b[0m\u001b[0;34m(\u001b[0m\u001b[0;34m\"Slope: {0}, Intercept: {1}\"\u001b[0m\u001b[0;34m.\u001b[0m\u001b[0mformat\u001b[0m\u001b[0;34m(\u001b[0m\u001b[0mslope\u001b[0m\u001b[0;34m,\u001b[0m \u001b[0mintercept\u001b[0m\u001b[0;34m)\u001b[0m\u001b[0;34m)\u001b[0m\u001b[0;34m\u001b[0m\u001b[0;34m\u001b[0m\u001b[0m\n\u001b[1;32m      8\u001b[0m \u001b[0mprint\u001b[0m\u001b[0;34m(\u001b[0m\u001b[0;34m\"R Square of fit on the testing set is {0}\"\u001b[0m\u001b[0;34m.\u001b[0m\u001b[0mformat\u001b[0m\u001b[0;34m(\u001b[0m\u001b[0mmodel_test\u001b[0m\u001b[0;34m(\u001b[0m\u001b[0mtesting_set\u001b[0m\u001b[0;34m,\u001b[0m \u001b[0mslope\u001b[0m\u001b[0;34m,\u001b[0m \u001b[0mintercept\u001b[0m\u001b[0;34m)\u001b[0m\u001b[0;34m)\u001b[0m\u001b[0;34m)\u001b[0m\u001b[0;34m\u001b[0m\u001b[0;34m\u001b[0m\u001b[0m\n",
      "\u001b[0;31mNameError\u001b[0m: name 'train_model' is not defined"
     ]
    }
   ],
   "source": [
    "raw_data_file_path = str(Path().resolve().parents[0] / \"data\" / \"raw\" / \"housing_data.txt\")\n",
    "clean_data_file_path = str(Path().resolve().parents[0] / \"data\" / \"clean\" / \"clean_housing_data.txt\")\n",
    "preprocess(raw_data_file_path, clean_data_file_path)\n",
    "data_array = get_data_as_numpy_array(clean_data_file_path, 2)\n",
    "training_set, testing_set = split_into_training_and_testing_sets(data_array)\n",
    "slope, intercept = train_model(training_set)\n",
    "print(\"Slope: {0}, Intercept: {1}\".format(slope, intercept))\n",
    "print(\"R Square of fit on the testing set is {0}\".format(model_test(testing_set, slope, intercept)))\n",
    "training_figure = get_plot_for_best_fit_line(slope, intercept, training_set[:, 0], training_set[:, 1], \"Training\")\n",
    "training_figure.show()\n",
    "testing_figure = get_plot_for_best_fit_line(slope, intercept, testing_set[:, 0], testing_set[:, 1], \"Testing\")\n",
    "testing_figure.show()"
   ]
  },
  {
   "cell_type": "code",
   "execution_count": 7,
   "metadata": {},
   "outputs": [
    {
     "name": "stdout",
     "output_type": "stream",
     "text": [
      "Package             Version\n",
      "------------------- -------\n",
      "appnope             0.1.2\n",
      "argon2-cffi         21.1.0\n",
      "atomicwrites        1.4.0\n",
      "attrs               21.2.0\n",
      "backcall            0.2.0\n",
      "bleach              4.1.0\n",
      "cffi                1.15.0\n",
      "cycler              0.11.0\n",
      "debugpy             1.5.1\n",
      "decorator           5.1.0\n",
      "defusedxml          0.7.1\n",
      "entrypoints         0.3\n",
      "importlib-resources 5.4.0\n",
      "iniconfig           1.1.1\n",
      "ipykernel           6.5.0\n",
      "ipython             7.29.0\n",
      "ipython-genutils    0.2.0\n",
      "ipywidgets          7.6.5\n",
      "jedi                0.18.0\n",
      "Jinja2              3.0.3\n",
      "jsonschema          4.2.1\n",
      "jupyter             1.0.0\n",
      "jupyter-client      7.0.6\n",
      "jupyter-console     6.4.0\n",
      "jupyter-core        4.9.1\n",
      "jupyterlab-pygments 0.1.2\n",
      "jupyterlab-widgets  1.0.2\n",
      "kiwisolver          1.3.2\n",
      "MarkupSafe          2.0.1\n",
      "matplotlib          3.4.3\n",
      "matplotlib-inline   0.1.3\n",
      "mistune             0.8.4\n",
      "more-itertools      8.11.0\n",
      "nbclient            0.5.5\n",
      "nbconvert           6.2.0\n",
      "nbformat            5.1.3\n",
      "nest-asyncio        1.5.1\n",
      "nose                1.3.7\n",
      "notebook            6.4.5\n",
      "numpy               1.17.3\n",
      "packaging           21.2\n",
      "pandocfilters       1.5.0\n",
      "parso               0.8.2\n",
      "pexpect             4.8.0\n",
      "pickleshare         0.7.5\n",
      "Pillow              8.4.0\n",
      "pip                 21.3.1\n",
      "pluggy              0.13.1\n",
      "prometheus-client   0.12.0\n",
      "prompt-toolkit      3.0.22\n",
      "ptyprocess          0.7.0\n",
      "py                  1.11.0\n",
      "pycparser           2.21\n",
      "Pygments            2.10.0\n",
      "pyparsing           2.4.7\n",
      "pyrsistent          0.18.0\n",
      "pytest              5.2.2\n",
      "pytest-mock         1.11.2\n",
      "pytest-mpl          0.10\n",
      "python-dateutil     2.8.2\n",
      "pyzmq               22.3.0\n",
      "qtconsole           5.2.0\n",
      "QtPy                1.11.2\n",
      "scipy               1.7.2\n",
      "Send2Trash          1.8.0\n",
      "setuptools          41.2.0\n",
      "six                 1.16.0\n",
      "terminado           0.12.1\n",
      "testpath            0.5.0\n",
      "toml                0.10.2\n",
      "tornado             6.1\n",
      "traitlets           5.1.1\n",
      "wcwidth             0.2.5\n",
      "webencodings        0.5.1\n",
      "widgetsnbextension  3.5.2\n",
      "zipp                3.6.0\n"
     ]
    }
   ],
   "source": [
    "! pip list"
   ]
  },
  {
   "cell_type": "code",
   "execution_count": null,
   "metadata": {},
   "outputs": [],
   "source": []
  }
 ],
 "metadata": {
  "kernelspec": {
   "display_name": "Python 3",
   "language": "python",
   "name": "python3"
  },
  "language_info": {
   "codemirror_mode": {
    "name": "ipython",
    "version": 3
   },
   "file_extension": ".py",
   "mimetype": "text/x-python",
   "name": "python",
   "nbconvert_exporter": "python",
   "pygments_lexer": "ipython3",
   "version": "3.8.2"
  }
 },
 "nbformat": 4,
 "nbformat_minor": 2
}
